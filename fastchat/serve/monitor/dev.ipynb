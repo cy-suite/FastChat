{
 "cells": [
  {
   "cell_type": "code",
   "execution_count": 1,
   "metadata": {},
   "outputs": [],
   "source": [
    "import pandas as pd"
   ]
  },
  {
   "cell_type": "code",
   "execution_count": 2,
   "metadata": {},
   "outputs": [],
   "source": [
    "df = pd.read_json(\"temp.json\")"
   ]
  },
  {
   "cell_type": "code",
   "execution_count": 12,
   "metadata": {},
   "outputs": [
    {
     "data": {
      "text/plain": [
       "3151"
      ]
     },
     "execution_count": 12,
     "metadata": {},
     "output_type": "execute_result"
    }
   ],
   "source": [
    "mini = df[df.model_a == \"gpt-4o-mini-2024-07-18\"].reset_index(drop=True)\n",
    "len(mini)"
   ]
  },
  {
   "cell_type": "code",
   "execution_count": 14,
   "metadata": {},
   "outputs": [
    {
     "data": {
      "text/plain": [
       "{'sum_user_tokens': 750,\n",
       " 'sum_assistant_a_tokens': 786,\n",
       " 'sum_assistant_b_tokens': 578,\n",
       " 'context_a_tokens': 750,\n",
       " 'context_b_tokens': 750,\n",
       " 'turns': 1,\n",
       " 'sum_bold_count_a': 53,\n",
       " 'sum_list_count_a': 52,\n",
       " 'sum_header_count_a': 1,\n",
       " 'sum_bold_count_b': 27,\n",
       " 'sum_list_count_b': 26,\n",
       " 'sum_header_count_b': 0}"
      ]
     },
     "execution_count": 14,
     "metadata": {},
     "output_type": "execute_result"
    }
   ],
   "source": [
    "mini.conv_metadata[1]"
   ]
  },
  {
   "cell_type": "code",
   "execution_count": 17,
   "metadata": {},
   "outputs": [
    {
     "name": "stdout",
     "output_type": "stream",
     "text": [
      "Let’s analyze the sequence of shots step by step, starting from the right-hand side of the court and determining the trajectory of the ball after each shot.\n",
      "\n",
      "1. **Serve**:\n",
      "   - The player serves from the right service box, hitting the ball to the front wall. The ball travels to the opposite back left corner (since it must land in the opposite back quarter).\n",
      "   - **Ball location: ** **Back Left Corner**\n",
      "\n",
      "2. **Power Straight Drive**:\n",
      "   - The ball is in the back left corner. The player hits a power straight drive along the left sidewall, sending it straight to the back right corner.\n",
      "   - **Ball location: ** **Back Right Corner**\n",
      "\n",
      "3. **Boast**:\n",
      "   - The ball is now in the back right corner. The player executes a boast, hitting the ball at an angle toward the front right wall. The ball then hits the front wall and travels toward the front left corner.\n",
      "   - **Ball location: ** **Front Left Corner**\n",
      "\n",
      "4. **Crosscourt Drive**:\n",
      "   - From the front left corner, the player hits a crosscourt drive diagonally to the back right corner.\n",
      "   - **Ball location: ** **Back Right Corner**\n",
      "\n",
      "5. **Straight Drop Shot**:\n",
      "   - The player is now in the back right corner and plays a straight drop shot, sending the ball softly to the front right corner.\n",
      "   - **Ball location: ** **Front Right Corner**\n",
      "\n",
      "6. **Crosscourt Lob**:\n",
      "   - The ball is in the front right corner. The player executes a crosscourt lob, hitting the ball high toward the front wall, which lands in the back left corner.\n",
      "   - **Ball location: ** **Back Left Corner**\n",
      "\n",
      "7. **Straight Volley**:\n",
      "   - The ball has traveled to the back left corner. The player performs a straight volley, hitting the ball before it bounces, sending it to the back right corner.\n",
      "   - **Ball location: ** **Back Right Corner**\n",
      "\n",
      "8. **Power Straight Drive**:\n",
      "   - The ball is in the back right corner. The player hits another power straight drive along the left sidewall to the back left corner.\n",
      "   - **Ball location: ** **Back Left Corner**\n",
      "\n",
      "9. **Boast**:\n",
      "   - The ball is in the back left corner again. The player executes a boast, sending the ball to the front left corner.\n",
      "   - **Ball location: ** **Front Left Corner**\n",
      "\n",
      "10. **Straight Drop**:\n",
      "    - The ball is in the front left corner. The player hits a straight drop shot to the front right corner.\n",
      "    - **Ball location: ** **Front Right Corner**\n",
      "\n",
      "11. **Straight Drop**:\n",
      "    - The ball is in the front right corner. The player hits another straight drop shot, this time to the front left corner.\n",
      "    - **Ball location: ** **Front Left Corner**\n",
      "\n",
      "12. **Crosscourt Drop**:\n",
      "    - The ball is in the front left corner. The player performs a crosscourt drop shot to the front right corner.\n",
      "    - **Ball location: ** **Front Right Corner**\n",
      "\n",
      "13. **Straight Drive**:\n",
      "    - The ball is in the front right corner. The player hits a straight drive to the back right corner.\n",
      "    - **Ball location: ** **Back Right Corner**\n",
      "\n",
      "### Summary of Ball Locations After Each Shot:\n",
      "1. **Back Left Corner**\n",
      "2. **Back Right Corner**\n",
      "3. **Front Left Corner**\n",
      "4. **Back Right Corner**\n",
      "5. **Front Right Corner**\n",
      "6. **Back Left Corner**\n",
      "7. **Back Right Corner**\n",
      "8. **Back Left Corner**\n",
      "9. **Front Left Corner**\n",
      "10. **Front Right Corner**\n",
      "11. **Front Left Corner**\n",
      "12. **Front Right Corner**\n",
      "13. **Back Right Corner**\n",
      "\n",
      "**Final Ball Location: Back Right Corner**\n"
     ]
    }
   ],
   "source": [
    "print(mini.conversation_a[1][1]['content'])"
   ]
  },
  {
   "cell_type": "code",
   "execution_count": 20,
   "metadata": {},
   "outputs": [],
   "source": [
    "text = \"\"\"\n",
    "# Header 1\n",
    "## Header 2\n",
    "\n",
    "This is a **bold** text and this is also __bold__.\n",
    "\n",
    "- List item 1\n",
    "- List item 2\n",
    "  * Nested list item\n",
    "  * Another nested item\n",
    "1. Ordered list item\n",
    "2. Another ordered item\n",
    "\n",
    "### Header 3\n",
    "Normal text here.\n",
    "\n",
    "Header with underline\n",
    "=====================\n",
    "\"\"\""
   ]
  },
  {
   "cell_type": "code",
   "execution_count": 21,
   "metadata": {},
   "outputs": [
    {
     "data": {
      "text/plain": [
       "'\\n# Header 1\\n## Header 2\\n\\nThis is a **bold** text and this is also __bold__.\\n\\n- List item 1\\n- List item 2\\n  * Nested list item\\n  * Another nested item\\n1. Ordered list item\\n2. Another ordered item\\n\\n### Header 3\\nNormal text here.\\n\\nHeader with underline\\n=====================\\n'"
      ]
     },
     "execution_count": 21,
     "metadata": {},
     "output_type": "execute_result"
    }
   ],
   "source": [
    "text"
   ]
  },
  {
   "cell_type": "code",
   "execution_count": 27,
   "metadata": {},
   "outputs": [
    {
     "name": "stdout",
     "output_type": "stream",
     "text": [
      "1\n",
      "0\n"
     ]
    }
   ],
   "source": [
    "import re\n",
    "print(len(re.findall(r'^#{1}\\s', text, re.MULTILINE)))\n",
    "print(len(re.findall(r'^#{4}\\s', text, re.MULTILINE)))"
   ]
  },
  {
   "cell_type": "code",
   "execution_count": null,
   "metadata": {},
   "outputs": [],
   "source": []
  }
 ],
 "metadata": {
  "kernelspec": {
   "display_name": "chatbot",
   "language": "python",
   "name": "python3"
  },
  "language_info": {
   "codemirror_mode": {
    "name": "ipython",
    "version": 3
   },
   "file_extension": ".py",
   "mimetype": "text/x-python",
   "name": "python",
   "nbconvert_exporter": "python",
   "pygments_lexer": "ipython3",
   "version": "3.9.19"
  }
 },
 "nbformat": 4,
 "nbformat_minor": 2
}
