{
 "cells": [
  {
   "cell_type": "markdown",
   "metadata": {},
   "source": [
    "## Setup"
   ]
  },
  {
   "cell_type": "code",
   "execution_count": 76,
   "metadata": {},
   "outputs": [],
   "source": [
    "import ast\n",
    "import re\n",
    "import json\n",
    "import numpy as np\n",
    "import pandas as pd\n",
    "from typing import List, Dict\n",
    "from tqdm import tqdm\n",
    "\n",
    "from dotenv import load_dotenv\n",
    "load_dotenv('keys.env')\n",
    "\n",
    "from openai import OpenAI\n",
    "OpenAI_CLIENT = OpenAI()\n",
    "\n",
    "from gradio_client import Client\n",
    "\n",
    "import prompts\n",
    "SEED = 42\n",
    "\n",
    "np.random.seed(SEED)"
   ]
  },
  {
   "cell_type": "code",
   "execution_count": 26,
   "metadata": {},
   "outputs": [],
   "source": [
    "import os\n",
    "import sys\n",
    "from contextlib import contextmanager\n",
    "\n",
    "@contextmanager\n",
    "def suppress_stdout():\n",
    "    \"\"\"\n",
    "    A context manager to suppress stdout output temporarily.\n",
    "    \"\"\"\n",
    "    with open(os.devnull, 'w') as devnull:\n",
    "        old_stdout = sys.stdout\n",
    "        sys.stdout = devnull\n",
    "        try:\n",
    "            yield\n",
    "        finally:\n",
    "            sys.stdout = old_stdout"
   ]
  },
  {
   "cell_type": "markdown",
   "metadata": {},
   "source": [
    "## Test set curation"
   ]
  },
  {
   "cell_type": "code",
   "execution_count": 29,
   "metadata": {},
   "outputs": [
    {
     "name": "stdout",
     "output_type": "stream",
     "text": [
      "Number of search prompts: 50\n",
      "Number of no search prompts: 51\n"
     ]
    }
   ],
   "source": [
    "with open('samples/search_helpful_prompts.json', 'r') as f:\n",
    "    search_prompts = f.read()\n",
    "    search_prompts = ast.literal_eval(search_prompts)\n",
    "\n",
    "with open('samples/search_not_helpful_prompts.json', 'r') as f:\n",
    "    no_search_prompts = f.read()\n",
    "    no_search_prompts = ast.literal_eval(no_search_prompts)\n",
    "\n",
    "print('Number of search prompts: {}'.format(len(search_prompts)))\n",
    "print('Number of no search prompts: {}'.format(len(no_search_prompts)))\n",
    "\n",
    "# processing initial samples\n",
    "samples = []\n",
    "for i, prompt in enumerate(search_prompts[:30]): # take only the samples from chatbot arena\n",
    "    samples.append({'prompt': prompt, 'search_helpful': 1, 'source': 'arena', 'label': 'none', 'metadata': 'none'})\n",
    "for prompt in no_search_prompts[:30]: # match the number of search samples from arena\n",
    "    samples.append({'prompt': prompt, 'search_helpful': 0, 'source': 'arena', 'label': 'none', 'metadata': 'none'})"
   ]
  },
  {
   "cell_type": "code",
   "execution_count": 30,
   "metadata": {},
   "outputs": [
    {
     "name": "stdout",
     "output_type": "stream",
     "text": [
      "Number of simple_qa samples: 4326\n"
     ]
    },
    {
     "data": {
      "text/html": [
       "<div>\n",
       "<style scoped>\n",
       "    .dataframe tbody tr th:only-of-type {\n",
       "        vertical-align: middle;\n",
       "    }\n",
       "\n",
       "    .dataframe tbody tr th {\n",
       "        vertical-align: top;\n",
       "    }\n",
       "\n",
       "    .dataframe thead th {\n",
       "        text-align: right;\n",
       "    }\n",
       "</style>\n",
       "<table border=\"1\" class=\"dataframe\">\n",
       "  <thead>\n",
       "    <tr style=\"text-align: right;\">\n",
       "      <th></th>\n",
       "      <th>metadata</th>\n",
       "      <th>problem</th>\n",
       "      <th>answer</th>\n",
       "    </tr>\n",
       "  </thead>\n",
       "  <tbody>\n",
       "    <tr>\n",
       "      <th>0</th>\n",
       "      <td>{'topic': 'Science and technology', 'answer_ty...</td>\n",
       "      <td>Who received the IEEE Frank Rosenblatt Award i...</td>\n",
       "      <td>Michio Sugeno</td>\n",
       "    </tr>\n",
       "    <tr>\n",
       "      <th>1</th>\n",
       "      <td>{'topic': 'Science and technology', 'answer_ty...</td>\n",
       "      <td>Who was awarded the Oceanography Society's Jer...</td>\n",
       "      <td>Annick Bricaud</td>\n",
       "    </tr>\n",
       "    <tr>\n",
       "      <th>2</th>\n",
       "      <td>{'topic': 'Geography', 'answer_type': 'Place',...</td>\n",
       "      <td>What's the name of the women's liberal arts co...</td>\n",
       "      <td>Radcliffe College</td>\n",
       "    </tr>\n",
       "    <tr>\n",
       "      <th>3</th>\n",
       "      <td>{'topic': 'Sports', 'answer_type': 'Person', '...</td>\n",
       "      <td>In whose honor was the Leipzig 1877 tournament...</td>\n",
       "      <td>Adolf Anderssen</td>\n",
       "    </tr>\n",
       "    <tr>\n",
       "      <th>4</th>\n",
       "      <td>{'topic': 'Art', 'answer_type': 'Person', 'url...</td>\n",
       "      <td>According to Karl Küchler, what did Empress El...</td>\n",
       "      <td>Poet Henrich Heine.</td>\n",
       "    </tr>\n",
       "  </tbody>\n",
       "</table>\n",
       "</div>"
      ],
      "text/plain": [
       "                                            metadata  \\\n",
       "0  {'topic': 'Science and technology', 'answer_ty...   \n",
       "1  {'topic': 'Science and technology', 'answer_ty...   \n",
       "2  {'topic': 'Geography', 'answer_type': 'Place',...   \n",
       "3  {'topic': 'Sports', 'answer_type': 'Person', '...   \n",
       "4  {'topic': 'Art', 'answer_type': 'Person', 'url...   \n",
       "\n",
       "                                             problem               answer  \n",
       "0  Who received the IEEE Frank Rosenblatt Award i...        Michio Sugeno  \n",
       "1  Who was awarded the Oceanography Society's Jer...       Annick Bricaud  \n",
       "2  What's the name of the women's liberal arts co...    Radcliffe College  \n",
       "3  In whose honor was the Leipzig 1877 tournament...      Adolf Anderssen  \n",
       "4  According to Karl Küchler, what did Empress El...  Poet Henrich Heine.  "
      ]
     },
     "metadata": {},
     "output_type": "display_data"
    }
   ],
   "source": [
    "simple_qa = pd.read_csv('samples/simple_qa_test_set.csv')\n",
    "print('Number of simple_qa samples: {}'.format(len(simple_qa)))\n",
    "display(simple_qa.head())\n",
    "\n",
    "simple_qa_sample = simple_qa.sample(30, random_state=SEED) # match the number of no search and search samples from arena\n",
    "for i, row in simple_qa_sample.iterrows():\n",
    "    samples.append({'prompt': row['problem'], 'search_helpful': 1, 'source': 'simple_qa', 'label': row['answer'], 'metadata': row['metadata']})"
   ]
  },
  {
   "cell_type": "code",
   "execution_count": 33,
   "metadata": {},
   "outputs": [
    {
     "name": "stdout",
     "output_type": "stream",
     "text": [
      "Number of samples: 90\n",
      "Number of no search prompts: 30\n",
      "Number of search prompts from chatbot arena: 30\n",
      "Number of search prompts from simple_qa: 30\n"
     ]
    },
    {
     "data": {
      "text/html": [
       "<div>\n",
       "<style scoped>\n",
       "    .dataframe tbody tr th:only-of-type {\n",
       "        vertical-align: middle;\n",
       "    }\n",
       "\n",
       "    .dataframe tbody tr th {\n",
       "        vertical-align: top;\n",
       "    }\n",
       "\n",
       "    .dataframe thead th {\n",
       "        text-align: right;\n",
       "    }\n",
       "</style>\n",
       "<table border=\"1\" class=\"dataframe\">\n",
       "  <thead>\n",
       "    <tr style=\"text-align: right;\">\n",
       "      <th></th>\n",
       "      <th>prompt</th>\n",
       "      <th>search_helpful</th>\n",
       "      <th>source</th>\n",
       "      <th>label</th>\n",
       "      <th>metadata</th>\n",
       "    </tr>\n",
       "  </thead>\n",
       "  <tbody>\n",
       "    <tr>\n",
       "      <th>85</th>\n",
       "      <td>On what date (month, day, year) was politician...</td>\n",
       "      <td>1</td>\n",
       "      <td>simple_qa</td>\n",
       "      <td>28 August 1901.</td>\n",
       "      <td>{'topic': 'Politics', 'answer_type': 'Date', '...</td>\n",
       "    </tr>\n",
       "    <tr>\n",
       "      <th>86</th>\n",
       "      <td>What were the month and year when Telegram ann...</td>\n",
       "      <td>1</td>\n",
       "      <td>simple_qa</td>\n",
       "      <td>September 2015.</td>\n",
       "      <td>{'topic': 'Science and technology', 'answer_ty...</td>\n",
       "    </tr>\n",
       "    <tr>\n",
       "      <th>87</th>\n",
       "      <td>Who opened the first gender clinic in Canada a...</td>\n",
       "      <td>1</td>\n",
       "      <td>simple_qa</td>\n",
       "      <td>Dr. Lorne Warneke</td>\n",
       "      <td>{'topic': 'Other', 'answer_type': 'Person', 'u...</td>\n",
       "    </tr>\n",
       "    <tr>\n",
       "      <th>88</th>\n",
       "      <td>What day, month, and year did the Christchurch...</td>\n",
       "      <td>1</td>\n",
       "      <td>simple_qa</td>\n",
       "      <td>19 of July of 2023</td>\n",
       "      <td>{'topic': 'Other', 'answer_type': 'Date', 'url...</td>\n",
       "    </tr>\n",
       "    <tr>\n",
       "      <th>89</th>\n",
       "      <td>On what day, month, and year did the Canadian ...</td>\n",
       "      <td>1</td>\n",
       "      <td>simple_qa</td>\n",
       "      <td>May 26, 2011</td>\n",
       "      <td>{'topic': 'Other', 'answer_type': 'Date', 'url...</td>\n",
       "    </tr>\n",
       "  </tbody>\n",
       "</table>\n",
       "</div>"
      ],
      "text/plain": [
       "                                               prompt  search_helpful  \\\n",
       "85  On what date (month, day, year) was politician...               1   \n",
       "86  What were the month and year when Telegram ann...               1   \n",
       "87  Who opened the first gender clinic in Canada a...               1   \n",
       "88  What day, month, and year did the Christchurch...               1   \n",
       "89  On what day, month, and year did the Canadian ...               1   \n",
       "\n",
       "       source               label  \\\n",
       "85  simple_qa     28 August 1901.   \n",
       "86  simple_qa     September 2015.   \n",
       "87  simple_qa   Dr. Lorne Warneke   \n",
       "88  simple_qa  19 of July of 2023   \n",
       "89  simple_qa        May 26, 2011   \n",
       "\n",
       "                                             metadata  \n",
       "85  {'topic': 'Politics', 'answer_type': 'Date', '...  \n",
       "86  {'topic': 'Science and technology', 'answer_ty...  \n",
       "87  {'topic': 'Other', 'answer_type': 'Person', 'u...  \n",
       "88  {'topic': 'Other', 'answer_type': 'Date', 'url...  \n",
       "89  {'topic': 'Other', 'answer_type': 'Date', 'url...  "
      ]
     },
     "execution_count": 33,
     "metadata": {},
     "output_type": "execute_result"
    }
   ],
   "source": [
    "print('Number of samples: {}'.format(len(samples)))\n",
    "print('Number of no search prompts: {}'.format(len([s for s in samples if s['search_helpful'] == 0])))\n",
    "print('Number of search prompts from chatbot arena: {}'.format(len([s for s in samples if s['source'] == 'arena' and s['search_helpful'] == 1])))\n",
    "print('Number of search prompts from simple_qa: {}'.format(len([s for s in samples if s['source'] == 'simple_qa' and s['search_helpful'] == 1])))\n",
    "\n",
    "# saving the samples\n",
    "with open('samples/eval_dataset.json', 'w') as f:\n",
    "    json.dump(samples, f, indent=4)\n",
    "    \n",
    "pd.DataFrame(samples).tail()"
   ]
  },
  {
   "cell_type": "markdown",
   "metadata": {},
   "source": [
    "## Evaluation"
   ]
  },
  {
   "cell_type": "code",
   "execution_count": 6,
   "metadata": {},
   "outputs": [
    {
     "data": {
      "text/html": [
       "<div>\n",
       "<style scoped>\n",
       "    .dataframe tbody tr th:only-of-type {\n",
       "        vertical-align: middle;\n",
       "    }\n",
       "\n",
       "    .dataframe tbody tr th {\n",
       "        vertical-align: top;\n",
       "    }\n",
       "\n",
       "    .dataframe thead th {\n",
       "        text-align: right;\n",
       "    }\n",
       "</style>\n",
       "<table border=\"1\" class=\"dataframe\">\n",
       "  <thead>\n",
       "    <tr style=\"text-align: right;\">\n",
       "      <th></th>\n",
       "      <th>prompt</th>\n",
       "      <th>search_helpful</th>\n",
       "      <th>source</th>\n",
       "      <th>label</th>\n",
       "      <th>metadata</th>\n",
       "    </tr>\n",
       "  </thead>\n",
       "  <tbody>\n",
       "    <tr>\n",
       "      <th>85</th>\n",
       "      <td>On what date (month, day, year) was politician...</td>\n",
       "      <td>1</td>\n",
       "      <td>simple_qa</td>\n",
       "      <td>28 August 1901.</td>\n",
       "      <td>{'topic': 'Politics', 'answer_type': 'Date', '...</td>\n",
       "    </tr>\n",
       "    <tr>\n",
       "      <th>86</th>\n",
       "      <td>What were the month and year when Telegram ann...</td>\n",
       "      <td>1</td>\n",
       "      <td>simple_qa</td>\n",
       "      <td>September 2015.</td>\n",
       "      <td>{'topic': 'Science and technology', 'answer_ty...</td>\n",
       "    </tr>\n",
       "    <tr>\n",
       "      <th>87</th>\n",
       "      <td>Who opened the first gender clinic in Canada a...</td>\n",
       "      <td>1</td>\n",
       "      <td>simple_qa</td>\n",
       "      <td>Dr. Lorne Warneke</td>\n",
       "      <td>{'topic': 'Other', 'answer_type': 'Person', 'u...</td>\n",
       "    </tr>\n",
       "    <tr>\n",
       "      <th>88</th>\n",
       "      <td>What day, month, and year did the Christchurch...</td>\n",
       "      <td>1</td>\n",
       "      <td>simple_qa</td>\n",
       "      <td>19 of July of 2023</td>\n",
       "      <td>{'topic': 'Other', 'answer_type': 'Date', 'url...</td>\n",
       "    </tr>\n",
       "    <tr>\n",
       "      <th>89</th>\n",
       "      <td>On what day, month, and year did the Canadian ...</td>\n",
       "      <td>1</td>\n",
       "      <td>simple_qa</td>\n",
       "      <td>May 26, 2011</td>\n",
       "      <td>{'topic': 'Other', 'answer_type': 'Date', 'url...</td>\n",
       "    </tr>\n",
       "  </tbody>\n",
       "</table>\n",
       "</div>"
      ],
      "text/plain": [
       "                                               prompt  search_helpful  \\\n",
       "85  On what date (month, day, year) was politician...               1   \n",
       "86  What were the month and year when Telegram ann...               1   \n",
       "87  Who opened the first gender clinic in Canada a...               1   \n",
       "88  What day, month, and year did the Christchurch...               1   \n",
       "89  On what day, month, and year did the Canadian ...               1   \n",
       "\n",
       "       source               label  \\\n",
       "85  simple_qa     28 August 1901.   \n",
       "86  simple_qa     September 2015.   \n",
       "87  simple_qa   Dr. Lorne Warneke   \n",
       "88  simple_qa  19 of July of 2023   \n",
       "89  simple_qa        May 26, 2011   \n",
       "\n",
       "                                             metadata  \n",
       "85  {'topic': 'Politics', 'answer_type': 'Date', '...  \n",
       "86  {'topic': 'Science and technology', 'answer_ty...  \n",
       "87  {'topic': 'Other', 'answer_type': 'Person', 'u...  \n",
       "88  {'topic': 'Other', 'answer_type': 'Date', 'url...  \n",
       "89  {'topic': 'Other', 'answer_type': 'Date', 'url...  "
      ]
     },
     "execution_count": 6,
     "metadata": {},
     "output_type": "execute_result"
    }
   ],
   "source": [
    "with open('samples/eval_dataset.json', 'r') as f:\n",
    "    eval_dataset = json.load(f)\n",
    "\n",
    "pd.DataFrame(eval_dataset).tail()"
   ]
  },
  {
   "cell_type": "code",
   "execution_count": 18,
   "metadata": {},
   "outputs": [],
   "source": [
    "class SimpleQAGrader():\n",
    "    GRADER_PROMPT = prompts.SIMPLE_QA_GRADER_PROMPT\n",
    "    def __init__(self, grader_model_name: str = \"gpt-4o\"):\n",
    "        self.grader_model_name = grader_model_name\n",
    "    \n",
    "    def grader_model(self, prompt_messages: List[Dict]) -> str:\n",
    "        completion = OpenAI_CLIENT.chat.completions.create(\n",
    "            model=self.grader_model_name,\n",
    "            messages=prompt_messages\n",
    "        )\n",
    "        return completion.choices[0].message.content\n",
    "\n",
    "    def grade_sample(self, question: str, target: str, predicted_answer: str) -> str:\n",
    "        grader_prompt = self.GRADER_PROMPT.format(\n",
    "            question=question,\n",
    "            target=target,\n",
    "            predicted_answer=predicted_answer,\n",
    "        )\n",
    "        prompt_messages = [\n",
    "            {\"role\": \"user\", \"content\": grader_prompt}\n",
    "        ]\n",
    "        grading_response = self.grader_model(prompt_messages)\n",
    "        match = re.search(r\"(A|B|C)\", grading_response)\n",
    "        return match.group(0) if match else \"C\"\n",
    "    \n",
    "    def evaluate(self, questions: List[str], targets: List[str], sampler_model: callable) -> Dict[str, List]:\n",
    "        print('Sampling...')\n",
    "        predicted_answers = []\n",
    "        for question in tqdm(questions):\n",
    "            predicted_answers.append(sampler_model(question))\n",
    "        print('Grading...')\n",
    "        grade_results = []\n",
    "        for question, target, predicted_answer in zip(questions, targets, predicted_answers):\n",
    "            grade_results.append(self.grade_sample(question, target, predicted_answer))\n",
    "        is_correct = [grade_result == \"A\" for grade_result in grade_results]\n",
    "        is_incorrect = [grade_result == \"B\" for grade_result in grade_results]\n",
    "        is_not_attempted = [grade_result == \"C\" for grade_result in grade_results]\n",
    "        total = len(questions)\n",
    "        print('Accuracy: {:.2f}%'.format(sum(is_correct) / total * 100))\n",
    "        print('Incorrect: {:.2f}%'.format(sum(is_incorrect) / total * 100))\n",
    "        print('Not attempted: {:.2f}%'.format(sum(is_not_attempted) / total * 100))\n",
    "        return {'predicted_answers': predicted_answers, 'grade_results': grade_results}\n",
    "        "
   ]
  },
  {
   "cell_type": "code",
   "execution_count": 27,
   "metadata": {},
   "outputs": [],
   "source": [
    "class SamplerModel():\n",
    "    def __init__(self, model_name: str = \"gpt-4o-agent\"):\n",
    "        self.model_name = model_name\n",
    "        \n",
    "    def sample(self, prompt : str) -> str:\n",
    "        with suppress_stdout():\n",
    "            GRADIO_CLIENT = Client(\"http://0.0.0.0:7860\") # start a new session\n",
    "        GRADIO_CLIENT.predict(\n",
    "            model_selector=self.model_name,\n",
    "            text=prompt,\n",
    "            api_name=\"/add_text_1\")\n",
    "        out = GRADIO_CLIENT.predict(api_name=\"/bot_response_2\")\n",
    "        return out[0][1]"
   ]
  },
  {
   "cell_type": "code",
   "execution_count": 63,
   "metadata": {},
   "outputs": [],
   "source": [
    "def gpt_3_5_sampler_model(question: str) -> str:\n",
    "    prompt_messages = [{'role': 'user', 'content': question}]\n",
    "    completion = OpenAI_CLIENT.chat.completions.create(\n",
    "        model='gpt-3.5-turbo',\n",
    "        messages=prompt_messages\n",
    "    )\n",
    "    return completion.choices[0].message.content\n",
    "\n",
    "gpt_4o_sampler_model = SamplerModel(model_name='gpt-4o')\n",
    "gpt_4o_agent_sampler_model = SamplerModel(model_name='gpt-4o-agent')"
   ]
  },
  {
   "cell_type": "markdown",
   "metadata": {},
   "source": [
    "### Simple QA eval"
   ]
  },
  {
   "cell_type": "code",
   "execution_count": null,
   "metadata": {},
   "outputs": [],
   "source": [
    "eval_simple_qa = [sample for sample in eval_dataset if sample['source'] == 'simple_qa']\n",
    "grader = SimpleQAGrader(grader_model_name='gpt-4o')"
   ]
  },
  {
   "cell_type": "code",
   "execution_count": null,
   "metadata": {},
   "outputs": [
    {
     "name": "stdout",
     "output_type": "stream",
     "text": [
      "Sampling...\n"
     ]
    },
    {
     "name": "stderr",
     "output_type": "stream",
     "text": [
      "100%|██████████| 30/30 [00:19<00:00,  1.58it/s]\n"
     ]
    },
    {
     "name": "stdout",
     "output_type": "stream",
     "text": [
      "Grading...\n",
      "Accuracy: 3.33%\n",
      "Incorrect: 93.33%\n",
      "Not attempted: 3.33%\n"
     ]
    }
   ],
   "source": [
    "gpt_3_5_results = grader.evaluate(questions=[sample['prompt'] for sample in eval_simple_qa],\n",
    "                                  targets=[sample['label'] for sample in eval_simple_qa],\n",
    "                                  sampler_model=gpt_3_5_sampler_model)"
   ]
  },
  {
   "cell_type": "code",
   "execution_count": null,
   "metadata": {},
   "outputs": [
    {
     "name": "stdout",
     "output_type": "stream",
     "text": [
      "Sampling...\n"
     ]
    },
    {
     "name": "stderr",
     "output_type": "stream",
     "text": [
      "100%|██████████| 30/30 [00:33<00:00,  1.13s/it]\n"
     ]
    },
    {
     "name": "stdout",
     "output_type": "stream",
     "text": [
      "Grading...\n",
      "Accuracy: 43.33%\n",
      "Incorrect: 56.67%\n",
      "Not attempted: 0.00%\n"
     ]
    }
   ],
   "source": [
    "gpt_4_results = grader.evaluate(questions=[sample['prompt'] for sample in eval_simple_qa],\n",
    "                                  targets=[sample['label'] for sample in eval_simple_qa],\n",
    "                                  sampler_model=gpt_4o_sampler_model.sample)"
   ]
  },
  {
   "cell_type": "code",
   "execution_count": null,
   "metadata": {},
   "outputs": [
    {
     "name": "stdout",
     "output_type": "stream",
     "text": [
      "Sampling...\n"
     ]
    },
    {
     "name": "stderr",
     "output_type": "stream",
     "text": [
      "100%|██████████| 30/30 [03:34<00:00,  7.16s/it]\n"
     ]
    },
    {
     "name": "stdout",
     "output_type": "stream",
     "text": [
      "Grading...\n",
      "Accuracy: 53.33%\n",
      "Incorrect: 33.33%\n",
      "Not attempted: 13.33%\n"
     ]
    }
   ],
   "source": [
    "gpt_4_agent_results = grader.evaluate(questions=[sample['prompt'] for sample in eval_simple_qa],\n",
    "                                      targets=[sample['label'] for sample in eval_simple_qa],\n",
    "                                      sampler_model=gpt_4o_agent_sampler_model.sample)"
   ]
  },
  {
   "cell_type": "code",
   "execution_count": 45,
   "metadata": {},
   "outputs": [
    {
     "data": {
      "text/html": [
       "<div>\n",
       "<style scoped>\n",
       "    .dataframe tbody tr th:only-of-type {\n",
       "        vertical-align: middle;\n",
       "    }\n",
       "\n",
       "    .dataframe tbody tr th {\n",
       "        vertical-align: top;\n",
       "    }\n",
       "\n",
       "    .dataframe thead th {\n",
       "        text-align: right;\n",
       "    }\n",
       "</style>\n",
       "<table border=\"1\" class=\"dataframe\">\n",
       "  <thead>\n",
       "    <tr style=\"text-align: right;\">\n",
       "      <th></th>\n",
       "      <th>prompt</th>\n",
       "      <th>search_helpful</th>\n",
       "      <th>source</th>\n",
       "      <th>label</th>\n",
       "      <th>metadata</th>\n",
       "      <th>gpt_3_5_answer</th>\n",
       "      <th>gpt_3_5_grade_result</th>\n",
       "      <th>gpt_4o_answer</th>\n",
       "      <th>gpt_4o_grade_result</th>\n",
       "      <th>gpt_4o_agent_answer</th>\n",
       "      <th>gpt_4o_agent_grade_result</th>\n",
       "    </tr>\n",
       "  </thead>\n",
       "  <tbody>\n",
       "    <tr>\n",
       "      <th>0</th>\n",
       "      <td>At what age was Ken Noda invited by President ...</td>\n",
       "      <td>1</td>\n",
       "      <td>simple_qa</td>\n",
       "      <td>20</td>\n",
       "      <td>{'topic': 'Art', 'answer_type': 'Number', 'url...</td>\n",
       "      <td>Ken Noda was invited to perform at the White H...</td>\n",
       "      <td>B</td>\n",
       "      <td>Ken Noda was invited to perform at the White H...</td>\n",
       "      <td>B</td>\n",
       "      <td>Ken Noda was invited by President Ronald Reaga...</td>\n",
       "      <td>B</td>\n",
       "    </tr>\n",
       "    <tr>\n",
       "      <th>1</th>\n",
       "      <td>Which art dealership did Peter Arrell Browne W...</td>\n",
       "      <td>1</td>\n",
       "      <td>simple_qa</td>\n",
       "      <td>Knoedler</td>\n",
       "      <td>{'topic': 'Art', 'answer_type': 'Other', 'urls...</td>\n",
       "      <td>Peter Arrell Browne Widener bought \"Portrait o...</td>\n",
       "      <td>B</td>\n",
       "      <td>Peter Arrell Browne Widener purchased \"Portrai...</td>\n",
       "      <td>B</td>\n",
       "      <td>Peter Arrell Browne Widener purchased \"Portrai...</td>\n",
       "      <td>B</td>\n",
       "    </tr>\n",
       "    <tr>\n",
       "      <th>2</th>\n",
       "      <td>What was composer Sigrid Ingeborg Henriette Wi...</td>\n",
       "      <td>1</td>\n",
       "      <td>simple_qa</td>\n",
       "      <td>Anna Bruun Tordenskjold</td>\n",
       "      <td>{'topic': 'Music', 'answer_type': 'Person', 'u...</td>\n",
       "      <td>Composer Sigrid Ingeborg Henriette Wienecke's ...</td>\n",
       "      <td>B</td>\n",
       "      <td>Sigrid Ingeborg Henriette Wienecke's mother's ...</td>\n",
       "      <td>B</td>\n",
       "      <td>Sigrid Ingeborg Henriette Wienecke's mother wa...</td>\n",
       "      <td>A</td>\n",
       "    </tr>\n",
       "    <tr>\n",
       "      <th>3</th>\n",
       "      <td>What is the forest cover area of Madhya Prades...</td>\n",
       "      <td>1</td>\n",
       "      <td>simple_qa</td>\n",
       "      <td>77,482.49</td>\n",
       "      <td>{'topic': 'Geography', 'answer_type': 'Number'...</td>\n",
       "      <td>According to the India State of Forest Report ...</td>\n",
       "      <td>B</td>\n",
       "      <td>According to the India State of Forest Report ...</td>\n",
       "      <td>A</td>\n",
       "      <td>According to the India State of Forest Report ...</td>\n",
       "      <td>A</td>\n",
       "    </tr>\n",
       "    <tr>\n",
       "      <th>4</th>\n",
       "      <td>Who kills Daryl Garrs in Happy Valley?</td>\n",
       "      <td>1</td>\n",
       "      <td>simple_qa</td>\n",
       "      <td>Alison Garrs</td>\n",
       "      <td>{'topic': 'TV shows', 'answer_type': 'Person',...</td>\n",
       "      <td>Tommy Lee Royce kills Daryl Garrs in Happy Val...</td>\n",
       "      <td>B</td>\n",
       "      <td>In the TV series \"Happy Valley,\" Daryl Garrs i...</td>\n",
       "      <td>A</td>\n",
       "      <td>In the television series \"Happy Valley,\" Daryl...</td>\n",
       "      <td>A</td>\n",
       "    </tr>\n",
       "  </tbody>\n",
       "</table>\n",
       "</div>"
      ],
      "text/plain": [
       "                                              prompt  search_helpful  \\\n",
       "0  At what age was Ken Noda invited by President ...               1   \n",
       "1  Which art dealership did Peter Arrell Browne W...               1   \n",
       "2  What was composer Sigrid Ingeborg Henriette Wi...               1   \n",
       "3  What is the forest cover area of Madhya Prades...               1   \n",
       "4             Who kills Daryl Garrs in Happy Valley?               1   \n",
       "\n",
       "      source                    label  \\\n",
       "0  simple_qa                       20   \n",
       "1  simple_qa                 Knoedler   \n",
       "2  simple_qa  Anna Bruun Tordenskjold   \n",
       "3  simple_qa                77,482.49   \n",
       "4  simple_qa             Alison Garrs   \n",
       "\n",
       "                                            metadata  \\\n",
       "0  {'topic': 'Art', 'answer_type': 'Number', 'url...   \n",
       "1  {'topic': 'Art', 'answer_type': 'Other', 'urls...   \n",
       "2  {'topic': 'Music', 'answer_type': 'Person', 'u...   \n",
       "3  {'topic': 'Geography', 'answer_type': 'Number'...   \n",
       "4  {'topic': 'TV shows', 'answer_type': 'Person',...   \n",
       "\n",
       "                                      gpt_3_5_answer gpt_3_5_grade_result  \\\n",
       "0  Ken Noda was invited to perform at the White H...                    B   \n",
       "1  Peter Arrell Browne Widener bought \"Portrait o...                    B   \n",
       "2  Composer Sigrid Ingeborg Henriette Wienecke's ...                    B   \n",
       "3  According to the India State of Forest Report ...                    B   \n",
       "4  Tommy Lee Royce kills Daryl Garrs in Happy Val...                    B   \n",
       "\n",
       "                                       gpt_4o_answer gpt_4o_grade_result  \\\n",
       "0  Ken Noda was invited to perform at the White H...                   B   \n",
       "1  Peter Arrell Browne Widener purchased \"Portrai...                   B   \n",
       "2  Sigrid Ingeborg Henriette Wienecke's mother's ...                   B   \n",
       "3  According to the India State of Forest Report ...                   A   \n",
       "4  In the TV series \"Happy Valley,\" Daryl Garrs i...                   A   \n",
       "\n",
       "                                 gpt_4o_agent_answer gpt_4o_agent_grade_result  \n",
       "0  Ken Noda was invited by President Ronald Reaga...                         B  \n",
       "1  Peter Arrell Browne Widener purchased \"Portrai...                         B  \n",
       "2  Sigrid Ingeborg Henriette Wienecke's mother wa...                         A  \n",
       "3  According to the India State of Forest Report ...                         A  \n",
       "4  In the television series \"Happy Valley,\" Daryl...                         A  "
      ]
     },
     "execution_count": 45,
     "metadata": {},
     "output_type": "execute_result"
    }
   ],
   "source": [
    "eval_simple_qa_df = pd.DataFrame(eval_simple_qa)\n",
    "eval_simple_qa_df['gpt_3_5_answer'] = gpt_3_5_results['predicted_answers']\n",
    "eval_simple_qa_df['gpt_3_5_grade_result'] = gpt_3_5_results['grade_results']\n",
    "eval_simple_qa_df['gpt_4o_answer'] = gpt_4_results['predicted_answers']\n",
    "eval_simple_qa_df['gpt_4o_grade_result'] = gpt_4_results['grade_results']\n",
    "eval_simple_qa_df['gpt_4o_agent_answer'] = gpt_4_agent_results['predicted_answers']\n",
    "eval_simple_qa_df['gpt_4o_agent_grade_result'] = gpt_4_agent_results['grade_results']\n",
    "eval_simple_qa_df.head()"
   ]
  },
  {
   "cell_type": "code",
   "execution_count": 60,
   "metadata": {},
   "outputs": [],
   "source": [
    "with open('results/gpt4_agent_worse.txt', 'w') as file:\n",
    "    for _, row in eval_simple_qa_df[\n",
    "        (eval_simple_qa_df['gpt_4o_grade_result'] == 'A') & \n",
    "        (eval_simple_qa_df['gpt_4o_agent_grade_result'] == 'B')\n",
    "    ].iterrows():\n",
    "        file.write(\"Prompt: {}\\n\".format(row['prompt']))\n",
    "        file.write(\"Label: {}\\n\".format(row['label']))\n",
    "        file.write('-' * 30 + '\\n')\n",
    "        file.write(\"GPT-4o Grade Result: {}\\n\".format(row['gpt_4o_grade_result']))\n",
    "        file.write(\"GPT-4o Answer: {}\\n\".format(row['gpt_4o_answer']))\n",
    "        file.write('-' * 30 + '\\n')\n",
    "        file.write(\"GPT-4o Agent Grade Result: {}\\n\".format(row['gpt_4o_agent_grade_result']))\n",
    "        file.write(\"GPT-4o Agent Answer: {}\\n\".format(row['gpt_4o_agent_answer']))\n",
    "        file.write(\"\\n\" + \"=\" * 50 + \"\\n\")"
   ]
  },
  {
   "cell_type": "code",
   "execution_count": 57,
   "metadata": {},
   "outputs": [],
   "source": [
    "with open('results/gpt4_agent_better.txt', 'w') as file:\n",
    "    for _, row in eval_simple_qa_df[\n",
    "        (eval_simple_qa_df['gpt_4o_grade_result'] == 'B') & \n",
    "        (eval_simple_qa_df['gpt_4o_agent_grade_result'] == 'A')\n",
    "    ].iterrows():\n",
    "        file.write(\"Prompt: {}\\n\".format(row['prompt']))\n",
    "        file.write(\"Label: {}\\n\".format(row['label']))\n",
    "        file.write('-' * 30 + '\\n')\n",
    "        file.write(\"GPT-4o Grade Result: {}\\n\".format(row['gpt_4o_grade_result']))\n",
    "        file.write(\"GPT-4o Answer: {}\\n\".format(row['gpt_4o_answer']))\n",
    "        file.write('-' * 30 + '\\n')\n",
    "        file.write(\"GPT-4o Agent Grade Result: {}\\n\".format(row['gpt_4o_agent_grade_result']))\n",
    "        file.write(\"GPT-4o Agent Answer: {}\\n\".format(row['gpt_4o_agent_answer']))\n",
    "        file.write(\"\\n\" + \"=\" * 50 + \"\\n\")"
   ]
  },
  {
   "cell_type": "code",
   "execution_count": 109,
   "metadata": {},
   "outputs": [],
   "source": [
    "eval_simple_qa_df.to_json('results/simpleqa_eval.json', orient='records')"
   ]
  },
  {
   "cell_type": "markdown",
   "metadata": {},
   "source": [
    "### Arena evals"
   ]
  },
  {
   "cell_type": "markdown",
   "metadata": {},
   "source": [
    "#### Search helpful"
   ]
  },
  {
   "cell_type": "code",
   "execution_count": 92,
   "metadata": {},
   "outputs": [],
   "source": [
    "np.random.seed(SEED)\n",
    "\n",
    "arena_eval_search = [sample for sample in eval_dataset if sample['source'] == 'arena' and sample['search_helpful'] == 1]\n",
    "arena_eval_search = np.random.choice(arena_eval_search, 10, replace=False)"
   ]
  },
  {
   "cell_type": "code",
   "execution_count": 93,
   "metadata": {},
   "outputs": [
    {
     "name": "stderr",
     "output_type": "stream",
     "text": [
      "100%|██████████| 10/10 [00:50<00:00,  5.09s/it]\n"
     ]
    }
   ],
   "source": [
    "gpt_4o_samples = []\n",
    "for sample in tqdm(arena_eval_search):\n",
    "    gpt_4o_samples.append(gpt_4o_sampler_model.sample(sample['prompt']))"
   ]
  },
  {
   "cell_type": "code",
   "execution_count": 94,
   "metadata": {},
   "outputs": [
    {
     "name": "stderr",
     "output_type": "stream",
     "text": [
      "100%|██████████| 10/10 [02:10<00:00, 13.07s/it]\n"
     ]
    }
   ],
   "source": [
    "gpt_4o_agent_samples = []\n",
    "for sample in tqdm(arena_eval_search):\n",
    "    gpt_4o_agent_samples.append(gpt_4o_agent_sampler_model.sample(sample['prompt']))"
   ]
  },
  {
   "cell_type": "code",
   "execution_count": 98,
   "metadata": {},
   "outputs": [
    {
     "data": {
      "text/html": [
       "<div>\n",
       "<style scoped>\n",
       "    .dataframe tbody tr th:only-of-type {\n",
       "        vertical-align: middle;\n",
       "    }\n",
       "\n",
       "    .dataframe tbody tr th {\n",
       "        vertical-align: top;\n",
       "    }\n",
       "\n",
       "    .dataframe thead th {\n",
       "        text-align: right;\n",
       "    }\n",
       "</style>\n",
       "<table border=\"1\" class=\"dataframe\">\n",
       "  <thead>\n",
       "    <tr style=\"text-align: right;\">\n",
       "      <th></th>\n",
       "      <th>prompt</th>\n",
       "      <th>search_helpful</th>\n",
       "      <th>source</th>\n",
       "      <th>label</th>\n",
       "      <th>metadata</th>\n",
       "      <th>gpt_4o_answer</th>\n",
       "      <th>gpt_4o_agent_answer</th>\n",
       "    </tr>\n",
       "  </thead>\n",
       "  <tbody>\n",
       "    <tr>\n",
       "      <th>0</th>\n",
       "      <td>tell me about the philosophy of Gustav Landauer?</td>\n",
       "      <td>1</td>\n",
       "      <td>arena</td>\n",
       "      <td>none</td>\n",
       "      <td>none</td>\n",
       "      <td>Gustav Landauer (1870–1919) was a German anarc...</td>\n",
       "      <td>Gustav Landauer was a notable German anarchist...</td>\n",
       "    </tr>\n",
       "    <tr>\n",
       "      <th>1</th>\n",
       "      <td>tell me the temperature in celsius, hydrometry...</td>\n",
       "      <td>1</td>\n",
       "      <td>arena</td>\n",
       "      <td>none</td>\n",
       "      <td>none</td>\n",
       "      <td>- Temperature: 18°C\\n- Hydrometry: 60%\\n- Suns...</td>\n",
       "      <td>Here are some suggested conditions for growing...</td>\n",
       "    </tr>\n",
       "    <tr>\n",
       "      <th>2</th>\n",
       "      <td>Instruction: You're a bot in Meta ads support ...</td>\n",
       "      <td>1</td>\n",
       "      <td>arena</td>\n",
       "      <td>none</td>\n",
       "      <td>none</td>\n",
       "      <td>I want to invoke help center with the keywords...</td>\n",
       "      <td>I want to invoke help center with the keywords...</td>\n",
       "    </tr>\n",
       "    <tr>\n",
       "      <th>3</th>\n",
       "      <td>Valvula borboleta classe 1 ou A?</td>\n",
       "      <td>1</td>\n",
       "      <td>arena</td>\n",
       "      <td>none</td>\n",
       "      <td>none</td>\n",
       "      <td>A seleção entre válvula borboleta Classe 1 e C...</td>\n",
       "      <td>As válvulas borboleta são classificadas em dif...</td>\n",
       "    </tr>\n",
       "    <tr>\n",
       "      <th>4</th>\n",
       "      <td>what to know about the current political and s...</td>\n",
       "      <td>1</td>\n",
       "      <td>arena</td>\n",
       "      <td>none</td>\n",
       "      <td>none</td>\n",
       "      <td>As of the latest information, political and so...</td>\n",
       "      <td>Political and social polarization in the Unite...</td>\n",
       "    </tr>\n",
       "    <tr>\n",
       "      <th>5</th>\n",
       "      <td>un buen bot para hacer trading gratuito</td>\n",
       "      <td>1</td>\n",
       "      <td>arena</td>\n",
       "      <td>none</td>\n",
       "      <td>none</td>\n",
       "      <td>Existen varios bots de trading gratuitos que p...</td>\n",
       "      <td>Aquí tienes algunas opciones de bots de tradin...</td>\n",
       "    </tr>\n",
       "    <tr>\n",
       "      <th>6</th>\n",
       "      <td>What the best performing method on SWE-Bench now?</td>\n",
       "      <td>1</td>\n",
       "      <td>arena</td>\n",
       "      <td>none</td>\n",
       "      <td>none</td>\n",
       "      <td>As of my last update, I don't have real-time a...</td>\n",
       "      <td>**NETWORK ERROR DUE TO HIGH TRAFFIC. PLEASE RE...</td>\n",
       "    </tr>\n",
       "    <tr>\n",
       "      <th>7</th>\n",
       "      <td>How many parameters does the largest neural ne...</td>\n",
       "      <td>1</td>\n",
       "      <td>arena</td>\n",
       "      <td>none</td>\n",
       "      <td>none</td>\n",
       "      <td>As of my last update, the largest publicly kno...</td>\n",
       "      <td>As of the latest information, the largest neur...</td>\n",
       "    </tr>\n",
       "    <tr>\n",
       "      <th>8</th>\n",
       "      <td>What hyper-automation tools are being used in ...</td>\n",
       "      <td>1</td>\n",
       "      <td>arena</td>\n",
       "      <td>none</td>\n",
       "      <td>none</td>\n",
       "      <td>As of the latest available information, Sandvi...</td>\n",
       "      <td>Sandvik is utilizing several advanced hyper-au...</td>\n",
       "    </tr>\n",
       "    <tr>\n",
       "      <th>9</th>\n",
       "      <td>tell me the temperature in celsius, hydrometry...</td>\n",
       "      <td>1</td>\n",
       "      <td>arena</td>\n",
       "      <td>none</td>\n",
       "      <td>none</td>\n",
       "      <td>I'm sorry, but I can't provide real-time data ...</td>\n",
       "      <td>To provide specific weather and environmental ...</td>\n",
       "    </tr>\n",
       "  </tbody>\n",
       "</table>\n",
       "</div>"
      ],
      "text/plain": [
       "                                              prompt  search_helpful source  \\\n",
       "0   tell me about the philosophy of Gustav Landauer?               1  arena   \n",
       "1  tell me the temperature in celsius, hydrometry...               1  arena   \n",
       "2  Instruction: You're a bot in Meta ads support ...               1  arena   \n",
       "3                  Valvula borboleta classe 1 ou A?                1  arena   \n",
       "4  what to know about the current political and s...               1  arena   \n",
       "5            un buen bot para hacer trading gratuito               1  arena   \n",
       "6  What the best performing method on SWE-Bench now?               1  arena   \n",
       "7  How many parameters does the largest neural ne...               1  arena   \n",
       "8  What hyper-automation tools are being used in ...               1  arena   \n",
       "9  tell me the temperature in celsius, hydrometry...               1  arena   \n",
       "\n",
       "  label metadata                                      gpt_4o_answer  \\\n",
       "0  none     none  Gustav Landauer (1870–1919) was a German anarc...   \n",
       "1  none     none  - Temperature: 18°C\\n- Hydrometry: 60%\\n- Suns...   \n",
       "2  none     none  I want to invoke help center with the keywords...   \n",
       "3  none     none  A seleção entre válvula borboleta Classe 1 e C...   \n",
       "4  none     none  As of the latest information, political and so...   \n",
       "5  none     none  Existen varios bots de trading gratuitos que p...   \n",
       "6  none     none  As of my last update, I don't have real-time a...   \n",
       "7  none     none  As of my last update, the largest publicly kno...   \n",
       "8  none     none  As of the latest available information, Sandvi...   \n",
       "9  none     none  I'm sorry, but I can't provide real-time data ...   \n",
       "\n",
       "                                 gpt_4o_agent_answer  \n",
       "0  Gustav Landauer was a notable German anarchist...  \n",
       "1  Here are some suggested conditions for growing...  \n",
       "2  I want to invoke help center with the keywords...  \n",
       "3  As válvulas borboleta são classificadas em dif...  \n",
       "4  Political and social polarization in the Unite...  \n",
       "5  Aquí tienes algunas opciones de bots de tradin...  \n",
       "6  **NETWORK ERROR DUE TO HIGH TRAFFIC. PLEASE RE...  \n",
       "7  As of the latest information, the largest neur...  \n",
       "8  Sandvik is utilizing several advanced hyper-au...  \n",
       "9  To provide specific weather and environmental ...  "
      ]
     },
     "execution_count": 98,
     "metadata": {},
     "output_type": "execute_result"
    }
   ],
   "source": [
    "arena_eval_search_df = pd.DataFrame(list(arena_eval_search))\n",
    "arena_eval_search_df['gpt_4o_answer'] = gpt_4o_samples\n",
    "arena_eval_search_df['gpt_4o_agent_answer'] = gpt_4o_agent_samples\n",
    "arena_eval_search_df"
   ]
  },
  {
   "cell_type": "code",
   "execution_count": 99,
   "metadata": {},
   "outputs": [],
   "source": [
    "with open('results/arena_search_helpful.txt', 'w') as file:\n",
    "    for prompt, gpt_4o_answer, gpt_4o_agent_answer in zip(\n",
    "        arena_eval_search_df['prompt'], \n",
    "        arena_eval_search_df['gpt_4o_answer'], \n",
    "        arena_eval_search_df['gpt_4o_agent_answer']\n",
    "    ):\n",
    "        file.write('Prompt: {}\\n'.format(prompt))\n",
    "        file.write('-' * 30 + '\\n')\n",
    "        file.write('GPT-4o Answer: {}\\n'.format(gpt_4o_answer))\n",
    "        file.write('-' * 30 + '\\n')\n",
    "        file.write('GPT-4o Agent Answer: {}\\n'.format(gpt_4o_agent_answer))\n",
    "        file.write('=' * 50 + '\\n')"
   ]
  },
  {
   "cell_type": "code",
   "execution_count": 101,
   "metadata": {},
   "outputs": [],
   "source": [
    "arena_eval_search_df.to_json('results/arena_eval_search_helpful.json', orient='records')"
   ]
  },
  {
   "cell_type": "markdown",
   "metadata": {},
   "source": [
    "#### Search not helpful"
   ]
  },
  {
   "cell_type": "code",
   "execution_count": 102,
   "metadata": {},
   "outputs": [],
   "source": [
    "np.random.seed(SEED)\n",
    "\n",
    "arena_eval_no_search = [sample for sample in eval_dataset if sample['source'] == 'arena' and sample['search_helpful'] == 0]\n",
    "arena_eval_no_search = np.random.choice(arena_eval_no_search, 10, replace=False)"
   ]
  },
  {
   "cell_type": "code",
   "execution_count": 104,
   "metadata": {},
   "outputs": [
    {
     "name": "stderr",
     "output_type": "stream",
     "text": [
      "100%|██████████| 10/10 [00:40<00:00,  4.00s/it]\n"
     ]
    }
   ],
   "source": [
    "gpt_4o_samples = []\n",
    "for sample in tqdm(arena_eval_no_search):\n",
    "    gpt_4o_samples.append(gpt_4o_sampler_model.sample(sample['prompt']))"
   ]
  },
  {
   "cell_type": "code",
   "execution_count": 105,
   "metadata": {},
   "outputs": [
    {
     "name": "stderr",
     "output_type": "stream",
     "text": [
      "100%|██████████| 10/10 [00:47<00:00,  4.76s/it]\n"
     ]
    }
   ],
   "source": [
    "gpt_4o_agent_samples = []\n",
    "for sample in tqdm(arena_eval_no_search):\n",
    "    gpt_4o_agent_samples.append(gpt_4o_agent_sampler_model.sample(sample['prompt']))"
   ]
  },
  {
   "cell_type": "code",
   "execution_count": 106,
   "metadata": {},
   "outputs": [
    {
     "data": {
      "text/html": [
       "<div>\n",
       "<style scoped>\n",
       "    .dataframe tbody tr th:only-of-type {\n",
       "        vertical-align: middle;\n",
       "    }\n",
       "\n",
       "    .dataframe tbody tr th {\n",
       "        vertical-align: top;\n",
       "    }\n",
       "\n",
       "    .dataframe thead th {\n",
       "        text-align: right;\n",
       "    }\n",
       "</style>\n",
       "<table border=\"1\" class=\"dataframe\">\n",
       "  <thead>\n",
       "    <tr style=\"text-align: right;\">\n",
       "      <th></th>\n",
       "      <th>prompt</th>\n",
       "      <th>search_helpful</th>\n",
       "      <th>source</th>\n",
       "      <th>label</th>\n",
       "      <th>metadata</th>\n",
       "      <th>gpt_4o_answer</th>\n",
       "      <th>gpt_4o_agent_answer</th>\n",
       "    </tr>\n",
       "  </thead>\n",
       "  <tbody>\n",
       "    <tr>\n",
       "      <th>0</th>\n",
       "      <td>### Instruction: You are an expert economist. ...</td>\n",
       "      <td>0</td>\n",
       "      <td>arena</td>\n",
       "      <td>none</td>\n",
       "      <td>none</td>\n",
       "      <td>Corruption - causes - blackout\\n\\nLack of main...</td>\n",
       "      <td>Corruption, a lack of maintenance, the exodus ...</td>\n",
       "    </tr>\n",
       "    <tr>\n",
       "      <th>1</th>\n",
       "      <td>Give me an introduction over 200 words for Sha...</td>\n",
       "      <td>0</td>\n",
       "      <td>arena</td>\n",
       "      <td>none</td>\n",
       "      <td>none</td>\n",
       "      <td>Shandong Jiulong Fine Chemical Co., Ltd. is a ...</td>\n",
       "      <td>Shandong Jiulong Fine Chemical Co., Ltd., loca...</td>\n",
       "    </tr>\n",
       "    <tr>\n",
       "      <th>2</th>\n",
       "      <td>You act as an e-commerce expert, replace the s...</td>\n",
       "      <td>0</td>\n",
       "      <td>arena</td>\n",
       "      <td>none</td>\n",
       "      <td>none</td>\n",
       "      <td>Certainly! If someone is searching for \"Nike,\"...</td>\n",
       "      <td>To replace the search term \"nike\" with similar...</td>\n",
       "    </tr>\n",
       "    <tr>\n",
       "      <th>3</th>\n",
       "      <td>This is the question:\\n\\nDo you know the diffe...</td>\n",
       "      <td>0</td>\n",
       "      <td>arena</td>\n",
       "      <td>none</td>\n",
       "      <td>none</td>\n",
       "      <td>[2, 3]</td>\n",
       "      <td>[2, 3]\\n</td>\n",
       "    </tr>\n",
       "    <tr>\n",
       "      <th>4</th>\n",
       "      <td>You are a SQLite expert. Given an input questi...</td>\n",
       "      <td>0</td>\n",
       "      <td>arena</td>\n",
       "      <td>none</td>\n",
       "      <td>none</td>\n",
       "      <td>Question: \"What are the names of the tracks in...</td>\n",
       "      <td>Question: \"What are the names of tracks compos...</td>\n",
       "    </tr>\n",
       "    <tr>\n",
       "      <th>5</th>\n",
       "      <td>prepare a 3 day tour of Basel switzerland</td>\n",
       "      <td>0</td>\n",
       "      <td>arena</td>\n",
       "      <td>none</td>\n",
       "      <td>none</td>\n",
       "      <td>Sure, here's a suggested itinerary for a 3-day...</td>\n",
       "      <td>Planning a 3-day tour of Basel, Switzerland, c...</td>\n",
       "    </tr>\n",
       "    <tr>\n",
       "      <th>6</th>\n",
       "      <td>What items in this sentence are commonly found...</td>\n",
       "      <td>0</td>\n",
       "      <td>arena</td>\n",
       "      <td>none</td>\n",
       "      <td>none</td>\n",
       "      <td>```json\\n{\\n    \"kitchen_items\": [\\n        \"s...</td>\n",
       "      <td>```json\\n{\\n  \"kitchen_items\": [\\n    \"shot gl...</td>\n",
       "    </tr>\n",
       "    <tr>\n",
       "      <th>7</th>\n",
       "      <td>Como un psicologo eclectico experto, responde ...</td>\n",
       "      <td>0</td>\n",
       "      <td>arena</td>\n",
       "      <td>none</td>\n",
       "      <td>none</td>\n",
       "      <td>Desde un enfoque ecléctico, que integra divers...</td>\n",
       "      <td>Desde una perspectiva ecléctica en psicología,...</td>\n",
       "    </tr>\n",
       "    <tr>\n",
       "      <th>8</th>\n",
       "      <td>Hello, how are you?</td>\n",
       "      <td>0</td>\n",
       "      <td>arena</td>\n",
       "      <td>none</td>\n",
       "      <td>none</td>\n",
       "      <td>Hello! I'm just a program, so I don't have fee...</td>\n",
       "      <td>Hello! I'm just a computer program, so I don't...</td>\n",
       "    </tr>\n",
       "    <tr>\n",
       "      <th>9</th>\n",
       "      <td>THIS SESSION HAS BEEN INACTIVE FOR TOO LONG. P...</td>\n",
       "      <td>0</td>\n",
       "      <td>arena</td>\n",
       "      <td>none</td>\n",
       "      <td>none</td>\n",
       "      <td>It looks like you might be experiencing an iss...</td>\n",
       "      <td>It seems like there was an issue with connecti...</td>\n",
       "    </tr>\n",
       "  </tbody>\n",
       "</table>\n",
       "</div>"
      ],
      "text/plain": [
       "                                              prompt  search_helpful source  \\\n",
       "0  ### Instruction: You are an expert economist. ...               0  arena   \n",
       "1  Give me an introduction over 200 words for Sha...               0  arena   \n",
       "2  You act as an e-commerce expert, replace the s...               0  arena   \n",
       "3  This is the question:\\n\\nDo you know the diffe...               0  arena   \n",
       "4  You are a SQLite expert. Given an input questi...               0  arena   \n",
       "5          prepare a 3 day tour of Basel switzerland               0  arena   \n",
       "6  What items in this sentence are commonly found...               0  arena   \n",
       "7  Como un psicologo eclectico experto, responde ...               0  arena   \n",
       "8                                Hello, how are you?               0  arena   \n",
       "9  THIS SESSION HAS BEEN INACTIVE FOR TOO LONG. P...               0  arena   \n",
       "\n",
       "  label metadata                                      gpt_4o_answer  \\\n",
       "0  none     none  Corruption - causes - blackout\\n\\nLack of main...   \n",
       "1  none     none  Shandong Jiulong Fine Chemical Co., Ltd. is a ...   \n",
       "2  none     none  Certainly! If someone is searching for \"Nike,\"...   \n",
       "3  none     none                                             [2, 3]   \n",
       "4  none     none  Question: \"What are the names of the tracks in...   \n",
       "5  none     none  Sure, here's a suggested itinerary for a 3-day...   \n",
       "6  none     none  ```json\\n{\\n    \"kitchen_items\": [\\n        \"s...   \n",
       "7  none     none  Desde un enfoque ecléctico, que integra divers...   \n",
       "8  none     none  Hello! I'm just a program, so I don't have fee...   \n",
       "9  none     none  It looks like you might be experiencing an iss...   \n",
       "\n",
       "                                 gpt_4o_agent_answer  \n",
       "0  Corruption, a lack of maintenance, the exodus ...  \n",
       "1  Shandong Jiulong Fine Chemical Co., Ltd., loca...  \n",
       "2  To replace the search term \"nike\" with similar...  \n",
       "3                                           [2, 3]\\n  \n",
       "4  Question: \"What are the names of tracks compos...  \n",
       "5  Planning a 3-day tour of Basel, Switzerland, c...  \n",
       "6  ```json\\n{\\n  \"kitchen_items\": [\\n    \"shot gl...  \n",
       "7  Desde una perspectiva ecléctica en psicología,...  \n",
       "8  Hello! I'm just a computer program, so I don't...  \n",
       "9  It seems like there was an issue with connecti...  "
      ]
     },
     "execution_count": 106,
     "metadata": {},
     "output_type": "execute_result"
    }
   ],
   "source": [
    "arena_eval_no_search_df = pd.DataFrame(list(arena_eval_no_search))\n",
    "arena_eval_no_search_df['gpt_4o_answer'] = gpt_4o_samples\n",
    "arena_eval_no_search_df['gpt_4o_agent_answer'] = gpt_4o_agent_samples\n",
    "arena_eval_no_search_df"
   ]
  },
  {
   "cell_type": "code",
   "execution_count": 107,
   "metadata": {},
   "outputs": [],
   "source": [
    "with open('results/arena_search_not_helpful.txt', 'w') as file:\n",
    "    for prompt, gpt_4o_answer, gpt_4o_agent_answer in zip(\n",
    "        arena_eval_no_search_df['prompt'], \n",
    "        arena_eval_no_search_df['gpt_4o_answer'], \n",
    "        arena_eval_no_search_df['gpt_4o_agent_answer']\n",
    "    ):\n",
    "        file.write('Prompt: {}\\n'.format(prompt))\n",
    "        file.write('-' * 30 + '\\n')\n",
    "        file.write('GPT-4o Answer: {}\\n'.format(gpt_4o_answer))\n",
    "        file.write('-' * 30 + '\\n')\n",
    "        file.write('GPT-4o Agent Answer: {}\\n'.format(gpt_4o_agent_answer))\n",
    "        file.write('=' * 50 + '\\n')"
   ]
  },
  {
   "cell_type": "code",
   "execution_count": 108,
   "metadata": {},
   "outputs": [],
   "source": [
    "arena_eval_no_search_df.to_json('results/arena_eval_search_not_helpful.json', orient='records')"
   ]
  },
  {
   "cell_type": "code",
   "execution_count": null,
   "metadata": {},
   "outputs": [],
   "source": []
  }
 ],
 "metadata": {
  "kernelspec": {
   "display_name": ".venv",
   "language": "python",
   "name": "python3"
  },
  "language_info": {
   "codemirror_mode": {
    "name": "ipython",
    "version": 3
   },
   "file_extension": ".py",
   "mimetype": "text/x-python",
   "name": "python",
   "nbconvert_exporter": "python",
   "pygments_lexer": "ipython3",
   "version": "3.11.4"
  }
 },
 "nbformat": 4,
 "nbformat_minor": 2
}
