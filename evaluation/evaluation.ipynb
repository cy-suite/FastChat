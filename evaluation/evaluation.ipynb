{
 "cells": [
  {
   "cell_type": "code",
   "execution_count": 28,
   "metadata": {},
   "outputs": [],
   "source": [
    "import ast\n",
    "import re\n",
    "import json\n",
    "import pandas as pd\n",
    "from typing import List, Dict\n",
    "from tqdm import tqdm\n",
    "\n",
    "from dotenv import load_dotenv\n",
    "load_dotenv('keys.env')\n",
    "\n",
    "from openai import OpenAI\n",
    "client = OpenAI()\n",
    "\n",
    "import prompts\n",
    "SEED = 42"
   ]
  },
  {
   "cell_type": "code",
   "execution_count": 29,
   "metadata": {},
   "outputs": [
    {
     "name": "stdout",
     "output_type": "stream",
     "text": [
      "Number of search prompts: 50\n",
      "Number of no search prompts: 51\n"
     ]
    }
   ],
   "source": [
    "with open('samples/search_helpful_prompts.json', 'r') as f:\n",
    "    search_prompts = f.read()\n",
    "    search_prompts = ast.literal_eval(search_prompts)\n",
    "\n",
    "with open('samples/search_not_helpful_prompts.json', 'r') as f:\n",
    "    no_search_prompts = f.read()\n",
    "    no_search_prompts = ast.literal_eval(no_search_prompts)\n",
    "\n",
    "print('Number of search prompts: {}'.format(len(search_prompts)))\n",
    "print('Number of no search prompts: {}'.format(len(no_search_prompts)))\n",
    "\n",
    "# processing initial samples\n",
    "samples = []\n",
    "for i, prompt in enumerate(search_prompts[:30]): # take only the samples from chatbot arena\n",
    "    samples.append({'prompt': prompt, 'search_helpful': 1, 'source': 'arena', 'label': 'none', 'metadata': 'none'})\n",
    "for prompt in no_search_prompts[:30]: # match the number of search samples from arena\n",
    "    samples.append({'prompt': prompt, 'search_helpful': 0, 'source': 'arena', 'label': 'none', 'metadata': 'none'})"
   ]
  },
  {
   "cell_type": "code",
   "execution_count": 30,
   "metadata": {},
   "outputs": [
    {
     "name": "stdout",
     "output_type": "stream",
     "text": [
      "Number of simple_qa samples: 4326\n"
     ]
    },
    {
     "data": {
      "text/html": [
       "<div>\n",
       "<style scoped>\n",
       "    .dataframe tbody tr th:only-of-type {\n",
       "        vertical-align: middle;\n",
       "    }\n",
       "\n",
       "    .dataframe tbody tr th {\n",
       "        vertical-align: top;\n",
       "    }\n",
       "\n",
       "    .dataframe thead th {\n",
       "        text-align: right;\n",
       "    }\n",
       "</style>\n",
       "<table border=\"1\" class=\"dataframe\">\n",
       "  <thead>\n",
       "    <tr style=\"text-align: right;\">\n",
       "      <th></th>\n",
       "      <th>metadata</th>\n",
       "      <th>problem</th>\n",
       "      <th>answer</th>\n",
       "    </tr>\n",
       "  </thead>\n",
       "  <tbody>\n",
       "    <tr>\n",
       "      <th>0</th>\n",
       "      <td>{'topic': 'Science and technology', 'answer_ty...</td>\n",
       "      <td>Who received the IEEE Frank Rosenblatt Award i...</td>\n",
       "      <td>Michio Sugeno</td>\n",
       "    </tr>\n",
       "    <tr>\n",
       "      <th>1</th>\n",
       "      <td>{'topic': 'Science and technology', 'answer_ty...</td>\n",
       "      <td>Who was awarded the Oceanography Society's Jer...</td>\n",
       "      <td>Annick Bricaud</td>\n",
       "    </tr>\n",
       "    <tr>\n",
       "      <th>2</th>\n",
       "      <td>{'topic': 'Geography', 'answer_type': 'Place',...</td>\n",
       "      <td>What's the name of the women's liberal arts co...</td>\n",
       "      <td>Radcliffe College</td>\n",
       "    </tr>\n",
       "    <tr>\n",
       "      <th>3</th>\n",
       "      <td>{'topic': 'Sports', 'answer_type': 'Person', '...</td>\n",
       "      <td>In whose honor was the Leipzig 1877 tournament...</td>\n",
       "      <td>Adolf Anderssen</td>\n",
       "    </tr>\n",
       "    <tr>\n",
       "      <th>4</th>\n",
       "      <td>{'topic': 'Art', 'answer_type': 'Person', 'url...</td>\n",
       "      <td>According to Karl Küchler, what did Empress El...</td>\n",
       "      <td>Poet Henrich Heine.</td>\n",
       "    </tr>\n",
       "  </tbody>\n",
       "</table>\n",
       "</div>"
      ],
      "text/plain": [
       "                                            metadata  \\\n",
       "0  {'topic': 'Science and technology', 'answer_ty...   \n",
       "1  {'topic': 'Science and technology', 'answer_ty...   \n",
       "2  {'topic': 'Geography', 'answer_type': 'Place',...   \n",
       "3  {'topic': 'Sports', 'answer_type': 'Person', '...   \n",
       "4  {'topic': 'Art', 'answer_type': 'Person', 'url...   \n",
       "\n",
       "                                             problem               answer  \n",
       "0  Who received the IEEE Frank Rosenblatt Award i...        Michio Sugeno  \n",
       "1  Who was awarded the Oceanography Society's Jer...       Annick Bricaud  \n",
       "2  What's the name of the women's liberal arts co...    Radcliffe College  \n",
       "3  In whose honor was the Leipzig 1877 tournament...      Adolf Anderssen  \n",
       "4  According to Karl Küchler, what did Empress El...  Poet Henrich Heine.  "
      ]
     },
     "metadata": {},
     "output_type": "display_data"
    }
   ],
   "source": [
    "simple_qa = pd.read_csv('samples/simple_qa_test_set.csv')\n",
    "print('Number of simple_qa samples: {}'.format(len(simple_qa)))\n",
    "display(simple_qa.head())\n",
    "\n",
    "simple_qa_sample = simple_qa.sample(30, random_state=SEED) # match the number of no search and search samples from arena\n",
    "for i, row in simple_qa_sample.iterrows():\n",
    "    samples.append({'prompt': row['problem'], 'search_helpful': 1, 'source': 'simple_qa', 'label': row['answer'], 'metadata': row['metadata']})"
   ]
  },
  {
   "cell_type": "code",
   "execution_count": 33,
   "metadata": {},
   "outputs": [
    {
     "name": "stdout",
     "output_type": "stream",
     "text": [
      "Number of samples: 90\n",
      "Number of no search prompts: 30\n",
      "Number of search prompts from chatbot arena: 30\n",
      "Number of search prompts from simple_qa: 30\n"
     ]
    },
    {
     "data": {
      "text/html": [
       "<div>\n",
       "<style scoped>\n",
       "    .dataframe tbody tr th:only-of-type {\n",
       "        vertical-align: middle;\n",
       "    }\n",
       "\n",
       "    .dataframe tbody tr th {\n",
       "        vertical-align: top;\n",
       "    }\n",
       "\n",
       "    .dataframe thead th {\n",
       "        text-align: right;\n",
       "    }\n",
       "</style>\n",
       "<table border=\"1\" class=\"dataframe\">\n",
       "  <thead>\n",
       "    <tr style=\"text-align: right;\">\n",
       "      <th></th>\n",
       "      <th>prompt</th>\n",
       "      <th>search_helpful</th>\n",
       "      <th>source</th>\n",
       "      <th>label</th>\n",
       "      <th>metadata</th>\n",
       "    </tr>\n",
       "  </thead>\n",
       "  <tbody>\n",
       "    <tr>\n",
       "      <th>85</th>\n",
       "      <td>On what date (month, day, year) was politician...</td>\n",
       "      <td>1</td>\n",
       "      <td>simple_qa</td>\n",
       "      <td>28 August 1901.</td>\n",
       "      <td>{'topic': 'Politics', 'answer_type': 'Date', '...</td>\n",
       "    </tr>\n",
       "    <tr>\n",
       "      <th>86</th>\n",
       "      <td>What were the month and year when Telegram ann...</td>\n",
       "      <td>1</td>\n",
       "      <td>simple_qa</td>\n",
       "      <td>September 2015.</td>\n",
       "      <td>{'topic': 'Science and technology', 'answer_ty...</td>\n",
       "    </tr>\n",
       "    <tr>\n",
       "      <th>87</th>\n",
       "      <td>Who opened the first gender clinic in Canada a...</td>\n",
       "      <td>1</td>\n",
       "      <td>simple_qa</td>\n",
       "      <td>Dr. Lorne Warneke</td>\n",
       "      <td>{'topic': 'Other', 'answer_type': 'Person', 'u...</td>\n",
       "    </tr>\n",
       "    <tr>\n",
       "      <th>88</th>\n",
       "      <td>What day, month, and year did the Christchurch...</td>\n",
       "      <td>1</td>\n",
       "      <td>simple_qa</td>\n",
       "      <td>19 of July of 2023</td>\n",
       "      <td>{'topic': 'Other', 'answer_type': 'Date', 'url...</td>\n",
       "    </tr>\n",
       "    <tr>\n",
       "      <th>89</th>\n",
       "      <td>On what day, month, and year did the Canadian ...</td>\n",
       "      <td>1</td>\n",
       "      <td>simple_qa</td>\n",
       "      <td>May 26, 2011</td>\n",
       "      <td>{'topic': 'Other', 'answer_type': 'Date', 'url...</td>\n",
       "    </tr>\n",
       "  </tbody>\n",
       "</table>\n",
       "</div>"
      ],
      "text/plain": [
       "                                               prompt  search_helpful  \\\n",
       "85  On what date (month, day, year) was politician...               1   \n",
       "86  What were the month and year when Telegram ann...               1   \n",
       "87  Who opened the first gender clinic in Canada a...               1   \n",
       "88  What day, month, and year did the Christchurch...               1   \n",
       "89  On what day, month, and year did the Canadian ...               1   \n",
       "\n",
       "       source               label  \\\n",
       "85  simple_qa     28 August 1901.   \n",
       "86  simple_qa     September 2015.   \n",
       "87  simple_qa   Dr. Lorne Warneke   \n",
       "88  simple_qa  19 of July of 2023   \n",
       "89  simple_qa        May 26, 2011   \n",
       "\n",
       "                                             metadata  \n",
       "85  {'topic': 'Politics', 'answer_type': 'Date', '...  \n",
       "86  {'topic': 'Science and technology', 'answer_ty...  \n",
       "87  {'topic': 'Other', 'answer_type': 'Person', 'u...  \n",
       "88  {'topic': 'Other', 'answer_type': 'Date', 'url...  \n",
       "89  {'topic': 'Other', 'answer_type': 'Date', 'url...  "
      ]
     },
     "execution_count": 33,
     "metadata": {},
     "output_type": "execute_result"
    }
   ],
   "source": [
    "print('Number of samples: {}'.format(len(samples)))\n",
    "print('Number of no search prompts: {}'.format(len([s for s in samples if s['search_helpful'] == 0])))\n",
    "print('Number of search prompts from chatbot arena: {}'.format(len([s for s in samples if s['source'] == 'arena' and s['search_helpful'] == 1])))\n",
    "print('Number of search prompts from simple_qa: {}'.format(len([s for s in samples if s['source'] == 'simple_qa' and s['search_helpful'] == 1])))\n",
    "\n",
    "# saving the samples\n",
    "with open('samples/eval_dataset.json', 'w') as f:\n",
    "    json.dump(samples, f, indent=4)\n",
    "    \n",
    "pd.DataFrame(samples).tail()"
   ]
  },
  {
   "cell_type": "code",
   "execution_count": 20,
   "metadata": {},
   "outputs": [],
   "source": [
    "class SimpleQAGrader():\n",
    "    GRADER_PROMPT = prompts.SIMPLE_QA_GRADER_PROMPT\n",
    "    def __init__(self, grader_model_name: str = \"gpt-4o\"):\n",
    "        self.grader_model_name = grader_model_name\n",
    "    \n",
    "    def grader_model(self, prompt_messages: List[Dict]) -> str:\n",
    "        completion = client.chat.completions.create(\n",
    "            model=self.grader_model_name,\n",
    "            messages=prompt_messages\n",
    "        )\n",
    "        return completion.choices[0].message.content\n",
    "\n",
    "    def grade_sample(self, question: str, target: str, predicted_answer: str) -> str:\n",
    "        grader_prompt = self.GRADER_PROMPT.format(\n",
    "            question=question,\n",
    "            target=target,\n",
    "            predicted_answer=predicted_answer,\n",
    "        )\n",
    "        prompt_messages = [\n",
    "            {\"role\": \"user\", \"content\": grader_prompt}\n",
    "        ]\n",
    "        grading_response = self.grader_model(prompt_messages)\n",
    "        match = re.search(r\"(A|B|C)\", grading_response)\n",
    "        return match.group(0) if match else \"C\"\n",
    "    \n",
    "    def evaluate(self, questions: List[str], targets: List[str], sampler_model: callable) -> Dict[str, List]:\n",
    "        print('Sampling...')\n",
    "        predicted_answers = []\n",
    "        for question in tqdm(questions):\n",
    "            predicted_answers.append(sampler_model(question))\n",
    "        print('Grading...')\n",
    "        grade_results = []\n",
    "        for question, target, predicted_answer in zip(questions, targets, predicted_answers):\n",
    "            grade_results.append(self.grade_sample(question, target, predicted_answer))\n",
    "        is_correct = [grade_result == \"A\" for grade_result in grade_results]\n",
    "        is_incorrect = [grade_result == \"B\" for grade_result in grade_results]\n",
    "        is_not_attempted = [grade_result == \"C\" for grade_result in grade_results]\n",
    "        total = len(questions)\n",
    "        print('Accuracy: {:.2f}%'.format(sum(is_correct) / total * 100))\n",
    "        print('Incorrect: {:.2f}%'.format(sum(is_incorrect) / total * 100))\n",
    "        print('Not attempted: {:.2f}%'.format(sum(is_not_attempted) / total * 100))\n",
    "        return {'predicted_answers': predicted_answers, 'grade_results': grade_results}\n",
    "        "
   ]
  },
  {
   "cell_type": "code",
   "execution_count": 21,
   "metadata": {},
   "outputs": [
    {
     "name": "stdout",
     "output_type": "stream",
     "text": [
      "Sampling...\n"
     ]
    },
    {
     "name": "stderr",
     "output_type": "stream",
     "text": [
      "100%|██████████| 30/30 [00:18<00:00,  1.60it/s]\n"
     ]
    },
    {
     "name": "stdout",
     "output_type": "stream",
     "text": [
      "Grading...\n",
      "Accuracy: 6.67%\n",
      "Incorrect: 93.33%\n",
      "Not attempted: 0.00%\n"
     ]
    }
   ],
   "source": [
    "def sampler_model(question: str) -> str:\n",
    "    prompt_messages = [{'role': 'user', 'content': question}]\n",
    "    completion = client.chat.completions.create(\n",
    "        model='gpt-3.5-turbo',\n",
    "        messages=prompt_messages\n",
    "    )\n",
    "    return completion.choices[0].message.content\n",
    "\n",
    "grader = SimpleQAGrader(grader_model_name='gpt-4o')\n",
    "sample = [s for s in samples if s['source'] == 'simple_qa']\n",
    "results = grader.evaluate(questions=[s['prompt'] for s in sample], targets=[s['label'] for s in sample], sampler_model=sampler_model)\n"
   ]
  },
  {
   "cell_type": "code",
   "execution_count": null,
   "metadata": {},
   "outputs": [],
   "source": []
  }
 ],
 "metadata": {
  "kernelspec": {
   "display_name": ".venv",
   "language": "python",
   "name": "python3"
  },
  "language_info": {
   "codemirror_mode": {
    "name": "ipython",
    "version": 3
   },
   "file_extension": ".py",
   "mimetype": "text/x-python",
   "name": "python",
   "nbconvert_exporter": "python",
   "pygments_lexer": "ipython3",
   "version": "3.11.4"
  }
 },
 "nbformat": 4,
 "nbformat_minor": 2
}
