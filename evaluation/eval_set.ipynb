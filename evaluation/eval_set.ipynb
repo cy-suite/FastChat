{
 "cells": [
  {
   "cell_type": "code",
   "execution_count": 1,
   "metadata": {},
   "outputs": [],
   "source": [
    "import json\n",
    "import pandas as pd\n",
    "\n",
    "SEED = 42\n",
    "SIMPLE_QA_SAMPLE_SIZE = 500"
   ]
  },
  {
   "cell_type": "code",
   "execution_count": 2,
   "metadata": {},
   "outputs": [
    {
     "name": "stdout",
     "output_type": "stream",
     "text": [
      "Full SimpleQA test set size: 4326\n"
     ]
    },
    {
     "data": {
      "text/html": [
       "<div>\n",
       "<style scoped>\n",
       "    .dataframe tbody tr th:only-of-type {\n",
       "        vertical-align: middle;\n",
       "    }\n",
       "\n",
       "    .dataframe tbody tr th {\n",
       "        vertical-align: top;\n",
       "    }\n",
       "\n",
       "    .dataframe thead th {\n",
       "        text-align: right;\n",
       "    }\n",
       "</style>\n",
       "<table border=\"1\" class=\"dataframe\">\n",
       "  <thead>\n",
       "    <tr style=\"text-align: right;\">\n",
       "      <th></th>\n",
       "      <th>metadata</th>\n",
       "      <th>problem</th>\n",
       "      <th>answer</th>\n",
       "    </tr>\n",
       "  </thead>\n",
       "  <tbody>\n",
       "    <tr>\n",
       "      <th>0</th>\n",
       "      <td>{'topic': 'Science and technology', 'answer_ty...</td>\n",
       "      <td>Who received the IEEE Frank Rosenblatt Award i...</td>\n",
       "      <td>Michio Sugeno</td>\n",
       "    </tr>\n",
       "    <tr>\n",
       "      <th>1</th>\n",
       "      <td>{'topic': 'Science and technology', 'answer_ty...</td>\n",
       "      <td>Who was awarded the Oceanography Society's Jer...</td>\n",
       "      <td>Annick Bricaud</td>\n",
       "    </tr>\n",
       "    <tr>\n",
       "      <th>2</th>\n",
       "      <td>{'topic': 'Geography', 'answer_type': 'Place',...</td>\n",
       "      <td>What's the name of the women's liberal arts co...</td>\n",
       "      <td>Radcliffe College</td>\n",
       "    </tr>\n",
       "    <tr>\n",
       "      <th>3</th>\n",
       "      <td>{'topic': 'Sports', 'answer_type': 'Person', '...</td>\n",
       "      <td>In whose honor was the Leipzig 1877 tournament...</td>\n",
       "      <td>Adolf Anderssen</td>\n",
       "    </tr>\n",
       "    <tr>\n",
       "      <th>4</th>\n",
       "      <td>{'topic': 'Art', 'answer_type': 'Person', 'url...</td>\n",
       "      <td>According to Karl Küchler, what did Empress El...</td>\n",
       "      <td>Poet Henrich Heine.</td>\n",
       "    </tr>\n",
       "  </tbody>\n",
       "</table>\n",
       "</div>"
      ],
      "text/plain": [
       "                                            metadata  \\\n",
       "0  {'topic': 'Science and technology', 'answer_ty...   \n",
       "1  {'topic': 'Science and technology', 'answer_ty...   \n",
       "2  {'topic': 'Geography', 'answer_type': 'Place',...   \n",
       "3  {'topic': 'Sports', 'answer_type': 'Person', '...   \n",
       "4  {'topic': 'Art', 'answer_type': 'Person', 'url...   \n",
       "\n",
       "                                             problem               answer  \n",
       "0  Who received the IEEE Frank Rosenblatt Award i...        Michio Sugeno  \n",
       "1  Who was awarded the Oceanography Society's Jer...       Annick Bricaud  \n",
       "2  What's the name of the women's liberal arts co...    Radcliffe College  \n",
       "3  In whose honor was the Leipzig 1877 tournament...      Adolf Anderssen  \n",
       "4  According to Karl Küchler, what did Empress El...  Poet Henrich Heine.  "
      ]
     },
     "metadata": {},
     "output_type": "display_data"
    },
    {
     "name": "stdout",
     "output_type": "stream",
     "text": [
      "Number of SimpleQA samples: 500\n",
      "\n",
      "\n",
      "Example:\n",
      "prompt: At what age was Ken Noda invited by President Ronald Reagan and First Lady Nancy Reagan to perform at the White House?\n",
      "search_helpful: True\n",
      "source: simple_qa\n",
      "label: 20\n",
      "metadata: {'topic': 'Art', 'answer_type': 'Number', 'urls': ['https://en.wikipedia.org/wiki/Ken_Noda', 'https://en.wikipedia.org/wiki/Ken_Noda', 'https://www.reaganlibrary.gov/reagans/reagan-administration/entertainers-white-house', 'https://www.nytimes.com/1982/10/28/arts/ken-noda-20-to-play-at-white-house.html']}\n"
     ]
    }
   ],
   "source": [
    "simple_qa = pd.read_csv('data/simple_qa_test_set.csv')\n",
    "print('Full SimpleQA test set size: {}'.format(len(simple_qa)))\n",
    "display(simple_qa.head())\n",
    "\n",
    "simple_qa_sample = simple_qa.sample(\n",
    "    n=SIMPLE_QA_SAMPLE_SIZE,\n",
    "    random_state=SEED)\n",
    "print('Number of SimpleQA samples: {}\\n\\n'.format(len(simple_qa_sample)))\n",
    "\n",
    "search_dataset = []\n",
    "for _, row in simple_qa_sample.iterrows():\n",
    "    search_dataset.append({\n",
    "        'prompt': row['problem'],\n",
    "        'search_helpful': True,\n",
    "        'source': 'simple_qa',\n",
    "        'label': row['answer'],\n",
    "        'metadata': row['metadata']\n",
    "    })\n",
    "    \n",
    "print('Example:')\n",
    "for k, v in search_dataset[0].items():\n",
    "    print('{}: {}'.format(k, v))"
   ]
  },
  {
   "cell_type": "code",
   "execution_count": 3,
   "metadata": {},
   "outputs": [
    {
     "name": "stdout",
     "output_type": "stream",
     "text": [
      "Full Arena-Hard test set size: 500\n"
     ]
    },
    {
     "data": {
      "text/html": [
       "<div>\n",
       "<style scoped>\n",
       "    .dataframe tbody tr th:only-of-type {\n",
       "        vertical-align: middle;\n",
       "    }\n",
       "\n",
       "    .dataframe tbody tr th {\n",
       "        vertical-align: top;\n",
       "    }\n",
       "\n",
       "    .dataframe thead th {\n",
       "        text-align: right;\n",
       "    }\n",
       "</style>\n",
       "<table border=\"1\" class=\"dataframe\">\n",
       "  <thead>\n",
       "    <tr style=\"text-align: right;\">\n",
       "      <th></th>\n",
       "      <th>question_id</th>\n",
       "      <th>category</th>\n",
       "      <th>cluster</th>\n",
       "      <th>turns</th>\n",
       "    </tr>\n",
       "  </thead>\n",
       "  <tbody>\n",
       "    <tr>\n",
       "      <th>0</th>\n",
       "      <td>328c149ed45a41c0b9d6f14659e63599</td>\n",
       "      <td>arena-hard-v0.1</td>\n",
       "      <td>ABC Sequence Puzzles &amp; Groups</td>\n",
       "      <td>[{'content': 'Use ABC notation to write a melo...</td>\n",
       "    </tr>\n",
       "    <tr>\n",
       "      <th>1</th>\n",
       "      <td>b43c07656ead4150b360294ee932b410</td>\n",
       "      <td>arena-hard-v0.1</td>\n",
       "      <td>ABC Sequence Puzzles &amp; Groups</td>\n",
       "      <td>[{'content': 'SOLVE THIS IN C++ : There are th...</td>\n",
       "    </tr>\n",
       "    <tr>\n",
       "      <th>2</th>\n",
       "      <td>1f07cf6d146d4038b2b93aaba3935ce0</td>\n",
       "      <td>arena-hard-v0.1</td>\n",
       "      <td>AI &amp; Sequence Alignment Challenges</td>\n",
       "      <td>[{'content': 'Explain the book the Alignment p...</td>\n",
       "    </tr>\n",
       "    <tr>\n",
       "      <th>3</th>\n",
       "      <td>9f25ff7c0d6a4d74846bfe76af8d925c</td>\n",
       "      <td>arena-hard-v0.1</td>\n",
       "      <td>AI &amp; Sequence Alignment Challenges</td>\n",
       "      <td>[{'content': 'Design a semikinematic mounting ...</td>\n",
       "    </tr>\n",
       "    <tr>\n",
       "      <th>4</th>\n",
       "      <td>04ba0aeb79524f6c8520d47cada34f25</td>\n",
       "      <td>arena-hard-v0.1</td>\n",
       "      <td>AI Image Upscaling</td>\n",
       "      <td>[{'content': 'I have a dataset which contains ...</td>\n",
       "    </tr>\n",
       "  </tbody>\n",
       "</table>\n",
       "</div>"
      ],
      "text/plain": [
       "                        question_id         category  \\\n",
       "0  328c149ed45a41c0b9d6f14659e63599  arena-hard-v0.1   \n",
       "1  b43c07656ead4150b360294ee932b410  arena-hard-v0.1   \n",
       "2  1f07cf6d146d4038b2b93aaba3935ce0  arena-hard-v0.1   \n",
       "3  9f25ff7c0d6a4d74846bfe76af8d925c  arena-hard-v0.1   \n",
       "4  04ba0aeb79524f6c8520d47cada34f25  arena-hard-v0.1   \n",
       "\n",
       "                              cluster  \\\n",
       "0       ABC Sequence Puzzles & Groups   \n",
       "1       ABC Sequence Puzzles & Groups   \n",
       "2  AI & Sequence Alignment Challenges   \n",
       "3  AI & Sequence Alignment Challenges   \n",
       "4                  AI Image Upscaling   \n",
       "\n",
       "                                               turns  \n",
       "0  [{'content': 'Use ABC notation to write a melo...  \n",
       "1  [{'content': 'SOLVE THIS IN C++ : There are th...  \n",
       "2  [{'content': 'Explain the book the Alignment p...  \n",
       "3  [{'content': 'Design a semikinematic mounting ...  \n",
       "4  [{'content': 'I have a dataset which contains ...  "
      ]
     },
     "metadata": {},
     "output_type": "display_data"
    },
    {
     "name": "stdout",
     "output_type": "stream",
     "text": [
      "Example:\n",
      "prompt: Use ABC notation to write a melody in the style of a folk tune.\n",
      "search_helpful: False\n",
      "source: arena_hard\n",
      "label: None\n",
      "metadata: None\n"
     ]
    }
   ],
   "source": [
    "arena_hard = pd.read_json('data/arena_hard_prompts.jsonl', lines=True)\n",
    "print('Full Arena-Hard test set size: {}'.format(len(arena_hard)))\n",
    "display(arena_hard.head())\n",
    "\n",
    "arena_hard['prompt'] = arena_hard['turns'].apply(lambda x: x[0]['content'])\n",
    "\n",
    "no_search_dataset = []\n",
    "for _, row in arena_hard.iterrows():\n",
    "    no_search_dataset.append({\n",
    "        'prompt': row['prompt'],\n",
    "        'search_helpful': False,\n",
    "        'source': 'arena_hard',\n",
    "        'label': None,\n",
    "        'metadata': None,\n",
    "    })\n",
    "\n",
    "print('Example:')\n",
    "for k, v in no_search_dataset[0].items():\n",
    "    print('{}: {}'.format(k, v))"
   ]
  },
  {
   "cell_type": "code",
   "execution_count": 4,
   "metadata": {},
   "outputs": [],
   "source": [
    "with open('eval_sets/search_dataset.jsonl', 'w') as f:\n",
    "    for item in search_dataset:\n",
    "        f.write('{}\\n'.format(json.dumps(item)))\n",
    "\n",
    "with open('eval_sets/no_search_dataset.jsonl', 'w') as f:\n",
    "    for item in no_search_dataset:\n",
    "        f.write('{}\\n'.format(json.dumps(item)))"
   ]
  },
  {
   "cell_type": "code",
   "execution_count": null,
   "metadata": {},
   "outputs": [],
   "source": []
  }
 ],
 "metadata": {
  "kernelspec": {
   "display_name": ".venv",
   "language": "python",
   "name": "python3"
  },
  "language_info": {
   "codemirror_mode": {
    "name": "ipython",
    "version": 3
   },
   "file_extension": ".py",
   "mimetype": "text/x-python",
   "name": "python",
   "nbconvert_exporter": "python",
   "pygments_lexer": "ipython3",
   "version": "3.11.4"
  }
 },
 "nbformat": 4,
 "nbformat_minor": 2
}
