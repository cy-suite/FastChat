{
 "cells": [
  {
   "cell_type": "code",
   "execution_count": null,
   "metadata": {},
   "outputs": [],
   "source": [
    "from datasets import load_dataset\n",
    "from random import randint\n",
    "import json\n",
    "\n",
    "# Login using e.g. `huggingface-cli login` to access this dataset\n",
    "ds = load_dataset(\"lmsys/lmsys-chat-1m\")['train']\n",
    "sample_idxs = [randint(0, len(ds)) for _ in range(300)]\n",
    "samples = [ds[i] for i in sample_idxs]\n",
    "single_turn_samples = [s for s in samples if len(s['conversation']) == 2]\n",
    "prompts = [s['conversation'][0]['content'] for s in single_turn_samples]\n",
    "with open('prompts.json', 'w') as f:\n",
    "    json.dump(prompts, f, indent=2)"
   ]
  },
  {
   "cell_type": "code",
   "execution_count": null,
   "metadata": {},
   "outputs": [],
   "source": [
    "import json\n",
    "prompts = json.load(open(\"prompts.json\"))[:100]\n",
    "server_url = \"https://e1f18acc28cf24eea6.gradio.live/\""
   ]
  },
  {
   "cell_type": "code",
   "execution_count": null,
   "metadata": {},
   "outputs": [],
   "source": [
    "from openai import OpenAI\n",
    "def get_response_standard(prompt):\n",
    "    system_prompt = \"You are a helpful assistant.\"\n",
    "    client = OpenAI()\n",
    "    completion = client.chat.completions.create(\n",
    "    model=\"gpt-4o\",\n",
    "    messages=[\n",
    "        {\"role\": \"system\", \"content\": system_prompt},\n",
    "        {\"role\": \"user\", \"content\": prompt},\n",
    "    ],\n",
    "    temperature=1.0,\n",
    "    top_p=0.7,\n",
    "    max_tokens=512,\n",
    "    )\n",
    "\n",
    "    return completion.choices[0].message.content\n",
    "\n",
    "\n",
    "\n",
    "from gradio_client import Client\n",
    "def get_response_agent(prompt):\n",
    "    client = Client(\"https://e1f18acc28cf24eea6.gradio.live/\")\n",
    "    result = client.predict(\n",
    "            model_selector=\"react-agent\",\n",
    "            text=prompt,\n",
    "            api_name=\"/add_text_1\")\n",
    "    out = client.predict(\n",
    "    temperature=1.0,\n",
    "    top_p=0.7,\n",
    "    max_new_tokens=512,\n",
    "    api_name=\"/bot_response_2\"\n",
    "    )\n",
    "    return out[0][1]\n"
   ]
  },
  {
   "cell_type": "code",
   "execution_count": null,
   "metadata": {},
   "outputs": [],
   "source": [
    "import tqdm\n",
    "responses = []\n",
    "for prompt in tqdm.tqdm(prompts):\n",
    "    agent_response = get_response_agent(prompt)\n",
    "    standard_response = get_response_standard(prompt)\n",
    "    responses.append({\"prompt\": prompt, \"agent_response\": agent_response, \"standard_response\": standard_response})"
   ]
  },
  {
   "cell_type": "code",
   "execution_count": null,
   "metadata": {},
   "outputs": [],
   "source": [
    "with open(\"responses.json\", \"w\") as f:\n",
    "    json.dump(responses, f, indent=2)"
   ]
  }
 ],
 "metadata": {
  "kernelspec": {
   "display_name": "GPML",
   "language": "python",
   "name": "python3"
  },
  "language_info": {
   "codemirror_mode": {
    "name": "ipython",
    "version": 3
   },
   "file_extension": ".py",
   "mimetype": "text/x-python",
   "name": "python",
   "nbconvert_exporter": "python",
   "pygments_lexer": "ipython3",
   "version": "3.10.14"
  }
 },
 "nbformat": 4,
 "nbformat_minor": 2
}
